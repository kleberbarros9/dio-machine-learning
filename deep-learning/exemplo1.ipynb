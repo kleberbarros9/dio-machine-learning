{
  "nbformat": 4,
  "nbformat_minor": 0,
  "metadata": {
    "colab": {
      "provenance": []
    },
    "kernelspec": {
      "name": "python3",
      "display_name": "Python 3"
    },
    "language_info": {
      "name": "python"
    }
  },
  "cells": [
    {
      "source": [
        "import numpy as np\n",
        "import matplotlib.pyplot as plt\n",
        "from tensorflow.keras.models import Sequential\n",
        "from tensorflow.keras.layers import Dense, Dropout, Flatten\n",
        "from tensorflow.keras.layers import Conv2D, MaxPooling2D\n",
        "from tensorflow.keras.optimizers import Adam\n",
        "from tensorflow.keras.preprocessing.image import ImageDataGenerator\n",
        "from tensorflow.keras.callbacks import ReduceLROnPlateau"
      ],
      "cell_type": "code",
      "metadata": {
        "id": "8dliWKxkjLGA"
      },
      "execution_count": 3,
      "outputs": []
    },
    {
      "cell_type": "code",
      "source": [
        "## dado que o range de valores possivel para um pixel vai de 0-255\n",
        "## escalonamos os valores entre 0-1\n",
        "## esse processo torna o modelo menos variante a pequenas alterações\n",
        "\n",
        "x_train = x_train / 255\n",
        "x_test = x_test / 255\n",
        "\n",
        "model = Sequential()\n",
        "model = add(Conv2D(32, (5,5), activation='relu', padding='same', input_shape=(28,28,1)))\n",
        "model = add(Conv2D(64, (5,5), activation='relu', padding='same'))\n",
        "model = add(MaxPooling2D(pool_size=(2,2)))\n",
        "model = add(Dropout(0.25))\n",
        "model = add(Flatten())\n",
        "model = add(Dense(125, activation='relu'))\n",
        "model = add(Dropout(0.5))\n",
        "model = add(Dense(10, activation='softmax'))"
      ],
      "metadata": {
        "id": "8AryVkbul6AQ"
      },
      "execution_count": null,
      "outputs": []
    },
    {
      "cell_type": "code",
      "source": [
        "## usada na camada de saida do classificador, onde realmente estamos tentando\n",
        "## gerar as probabilidades para definir a classe de cada entrada\n",
        "\n",
        "optimizer = Adam()\n",
        "model.compile(optimizer=optimizer, loss='categorical_crossentropy', metrics=['accuracy'])\n",
        "print(model.summary())"
      ],
      "metadata": {
        "id": "rhmjDPZvmBqP"
      },
      "execution_count": null,
      "outputs": []
    },
    {
      "cell_type": "code",
      "source": [
        "## reduz o paramentro de learning rate se não houver melhoras em determinado\n",
        "## numero de epocas util para encontrar o minimo global\n",
        "\n",
        "learning_rate_reduction = ReduceLROnPlateau(monitor='val_acc',\n",
        "                                            patience=3,\n",
        "                                            verbose=1,\n",
        "                                            factor=0.5,\n",
        "                                            min_lr=0.00001)\n",
        "batch_size = 32\n",
        "epochs = 10\n",
        "\n",
        "history = model.fit(x_train,\n",
        "                    y_train,\n",
        "                    batch_size=batch_size,\n",
        "                    epochs=epochs,\n",
        "                    validation_data=0.2,\n",
        "                    callbacks=[learning_rate_reduction])\n",
        "\n",
        "history_dict = history.history\n",
        "acc = history_dict['acc']\n",
        "val_acc = history_dict['val_acc']\n",
        "range_epochs = range(1, len(acc) + 1)"
      ],
      "metadata": {
        "id": "yntnttVUmejf"
      },
      "execution_count": null,
      "outputs": []
    },
    {
      "cell_type": "code",
      "source": [
        "plt.style.use('default')\n",
        "accuracy_val = plt.plot(range_epochs, val_acc, label='Acuracia no conjunto de validacao')\n",
        "accuracy_train = plt.plot(range_epochs, acc, label='Acuracia no conjunto de treinamento', color='red')\n",
        "plt.setp(accuracy_val, linewidth=2.0)\n",
        "plt.setp(accuracy_train, linewidth=2.0)\n",
        "plt.xlabel('Epocas')\n",
        "plt.ylabel('Acuracia')\n",
        "plt.legend(loc='lower right')\n",
        "plt.show()"
      ],
      "metadata": {
        "id": "SgZeNjM8oG3I"
      },
      "execution_count": null,
      "outputs": []
    }
  ]
}