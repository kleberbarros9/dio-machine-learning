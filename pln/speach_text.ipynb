{
  "nbformat": 4,
  "nbformat_minor": 0,
  "metadata": {
    "colab": {
      "provenance": []
    },
    "kernelspec": {
      "name": "python3",
      "display_name": "Python 3"
    },
    "language_info": {
      "name": "python"
    }
  },
  "cells": [
    {
      "cell_type": "code",
      "execution_count": null,
      "metadata": {
        "id": "2SNuZRPaGnJH"
      },
      "outputs": [],
      "source": [
        "# Importando a biblioteca speech_recognition para reconhecimento de fala\n",
        "import speech_recognition as sr\n",
        "\n",
        "# Importando a biblioteca gTTS (Google Text-to-Speech) para conversão de texto em fala\n",
        "from gtts import gTTS\n",
        "\n",
        "# Importando a biblioteca os para interação com o sistema operacional, como executar comandos de sistema\n",
        "import os\n",
        "\n",
        "# Importando a biblioteca datetime para trabalhar com data e hora\n",
        "import datetime\n",
        "\n",
        "# Importando a função playsound para tocar arquivos de áudio\n",
        "import playsound\n",
        "\n",
        "# Importando a biblioteca pyjokes para gerar piadas aleatórias\n",
        "import pyjokes\n",
        "\n",
        "# Importando a biblioteca wikipedia para realizar buscas na Wikipedia\n",
        "import wikipedia\n",
        "\n",
        "# Importando a biblioteca pyaudio para interação com dispositivos de áudio\n",
        "import pyaudio\n",
        "\n",
        "# Importando a biblioteca webbrowser para abrir URLs no navegador\n",
        "import webbrowser\n"
      ]
    },
    {
      "cell_type": "code",
      "source": [
        "# Função para capturar áudio do microfone e convertê-lo em texto\n",
        "def get_audio():\n",
        "    # Cria uma instância do reconhecedor de fala\n",
        "    r = sr.Recognizer()\n",
        "\n",
        "    # Abertura do microfone como fonte de áudio\n",
        "    with sr.Microphone() as source:\n",
        "        # Define o limiar de pausa entre palavras (0.8 segundos)\n",
        "        r.pause_threshold = 0.8\n",
        "\n",
        "        # Escuta o áudio vindo do microfone\n",
        "        audio = r.listen(source)\n",
        "\n",
        "        # Inicializa uma variável para armazenar a transcrição\n",
        "        said = \"\"\n",
        "\n",
        "        try:\n",
        "            # Usa o Google para reconhecer o áudio e converter em texto\n",
        "            said = r.recognize_google(audio)\n",
        "            print(said)  # Exibe o texto reconhecido\n",
        "        except Exception as e:\n",
        "            # Se ocorrer um erro, imprime a exceção e solicita que o usuário repita\n",
        "            print(\"Exception: \" + str(e))\n",
        "            speak(\"Sorry, I did not get that\")\n",
        "\n",
        "    # Retorna o texto transcrito em letras minúsculas\n",
        "    return said.lower()"
      ],
      "metadata": {
        "id": "l9n6SRnCHGCm"
      },
      "execution_count": null,
      "outputs": []
    },
    {
      "cell_type": "code",
      "source": [
        "# Função para falar o texto fornecido, usando a biblioteca gTTS para conversão de texto em fala\n",
        "def speak(text):\n",
        "    # Cria o objeto gTTS com o texto a ser falado e define o idioma como inglês ('eng')\n",
        "    tts = gTTS(text=text, lang='eng')\n",
        "\n",
        "    # Define o nome do arquivo temporário para salvar o áudio\n",
        "    filename = \"voice.mp3\"\n",
        "\n",
        "    try:\n",
        "        # Tenta remover o arquivo anterior, se existir\n",
        "        os.remove(filename)\n",
        "    except OSError:\n",
        "        # Se o arquivo não existir, ignora o erro\n",
        "        pass\n",
        "\n",
        "    # Salva o áudio gerado como um arquivo MP3\n",
        "    tts.save(filename)\n",
        "\n",
        "    # Reproduz o áudio gerado\n",
        "    playsound.playsound(filename)\n",
        "\n",
        "# Loop contínuo para escutar comandos do usuário\n",
        "while True:\n",
        "    # Exibe uma mensagem indicando que está ouvindo\n",
        "    print(\"I am listening...\")\n",
        "\n",
        "    # Captura o áudio e converte em texto\n",
        "    text = get_audio().lower()\n",
        "\n",
        "    # Verifica se o comando inclui \"youtube\"\n",
        "    if 'youtube' in text:\n",
        "        # Se \"youtube\" for mencionado, abre o YouTube\n",
        "        speak(\"Opening Youtube\")\n",
        "        url = \"https://www.youtube.com\"\n",
        "        webbrowser.get().open(url)\n",
        "\n",
        "    # Verifica se o comando inclui \"search\"\n",
        "    elif 'search' in text:\n",
        "        # Se \"search\" for mencionado, realiza uma busca na Wikipedia\n",
        "        speak(\"Searching Wikipedia...\")\n",
        "        query = text.replace(\"search\", \"\")  # Remove a palavra \"search\" do comando\n",
        "        result = wikipedia.summary(query, sentences=3)  # Obtém um resumo de 3 sentenças\n",
        "        speak(\"According to Wikipedia\")\n",
        "        print(result)  # Exibe o resultado no console\n",
        "        speak(result)  # Fala o resultado\n",
        "\n",
        "    # Verifica se o comando inclui \"joke\"\n",
        "    elif 'joke' in text:\n",
        "        # Se \"joke\" for mencionado, fala uma piada\n",
        "        speak(pyjokes.get_joke())\n",
        "\n",
        "    # Verifica se o comando inclui \"exit\"\n",
        "    elif 'exit' in text:\n",
        "        # Se \"exit\" for mencionado, fala uma despedida e encerra o programa\n",
        "        speak(\"Goodbye\")\n",
        "        exit()"
      ],
      "metadata": {
        "id": "OMdC4KjjHsn3"
      },
      "execution_count": null,
      "outputs": []
    },
    {
      "cell_type": "code",
      "source": [],
      "metadata": {
        "id": "0W4oyi1iIE1r"
      },
      "execution_count": null,
      "outputs": []
    }
  ]
}