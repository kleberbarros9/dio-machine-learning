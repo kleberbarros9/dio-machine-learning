{
  "nbformat": 4,
  "nbformat_minor": 0,
  "metadata": {
    "colab": {
      "provenance": []
    },
    "kernelspec": {
      "name": "python3",
      "display_name": "Python 3"
    }
  },
  "cells": [
    {
      "cell_type": "markdown",
      "metadata": {
        "id": "F7ThfbiQl96l"
      },
      "source": [
        "##Instalando o TensorFlow\n",
        "Para instalar o TensorFlow em sua máquina local, você pode usar pip.\n",
        "```console\n",
        "pip install tensorflow\n",
        "```"
      ]
    },
    {
      "cell_type": "markdown",
      "metadata": {
        "id": "JJjNMaSClWhg"
      },
      "source": [
        "## Importando o TensorFlow\n",
        "A primeira etapa aqui será selecionar a versão correta do TensorFlow from within collabratory!"
      ]
    },
    {
      "cell_type": "code",
      "metadata": {
        "id": "4N7XbNDVY8P3"
      },
      "source": [
        "import tensorflow as tf  # agora importe o módulo tensorflow\n",
        "print(tf.version)  # certifique-se de que a versão seja 2.x"
      ],
      "execution_count": null,
      "outputs": []
    },
    {
      "cell_type": "markdown",
      "metadata": {
        "id": "duDj86TfWFof"
      },
      "source": [
        "## Tensors\n",
        "\"Um tensor é uma generalização de vetores e matrizes para dimensões potencialmente superiores. Internamente, o TensorFlow representa tensores como matrizes n-dimensionais de tipos de dados básicos.\"\n",
        "\n",
        "Não deveria ser surpresa para você que os tensores são um aspecto fundamental do TensorFlow. Eles são os principais objetos que são repassados ​​e manipulados ao longo do programa. Cada tensor representa uma computação parcialmente definida que eventualmente produzirá um valor. Os programas TensorFlow funcionam construindo um gráfico de objetos Tensor que detalha como os tensores estão relacionados. A execução de diferentes partes do gráfico permite a geração de resultados.\n",
        "\n",
        "Cada tensor possui um tipo de dados e uma forma.\n",
        "\n",
        "**Os tipos de dados incluem**: float32, int32, string e outros.\n",
        "\n",
        "**Forma**: Representa a dimensão dos dados.\n",
        "\n",
        "Assim como vetores e matrizes, tensores podem ter operações aplicadas a eles, como adição, subtração, produto escalar, produto vetorial, etc.\n",
        "\n",
        "Nas próximas seções discutiremos algumas propriedades diferentes dos tensores. Isso é para torná-lo mais familiarizado com como o tensorflow representa os dados e como você pode manipular esses dados."
      ]
    },
    {
      "cell_type": "markdown",
      "metadata": {
        "id": "TAk6QhGUwQRt"
      },
      "source": [
        "###Criando Tensors\n",
        "Abaixo está um exemplo de como criar alguns tensores diferentes.\n",
        "\n",
        "Você simplesmente define o valor do tensor e do tipo de dados e pronto! Vale ressaltar que normalmente lidamos com tensores de dados numéricos, é bastante raro ver tensores de strings.\n",
        "\n"
      ]
    },
    {
      "cell_type": "code",
      "metadata": {
        "id": "epGskXdjZHzu"
      },
      "source": [
        "string = tf.Variable(\"this is a string\", tf.string)\n",
        "number = tf.Variable(324, tf.int16)\n",
        "floating = tf.Variable(3.567, tf.float64)"
      ],
      "execution_count": null,
      "outputs": []
    },
    {
      "cell_type": "markdown",
      "metadata": {
        "id": "D0_H71HMaE-5"
      },
      "source": [
        "###Classificação/Grau dos Tensors\n",
        "Outra palavra para classificação é grau; esses termos significam simplesmente o número de dimensões envolvidas no tensor. O que criamos acima é um *tensor de classificação 0*, também conhecido como escalar.\n",
        "\n",
        "Agora criaremos alguns tensores de graus/classificações mais elevados."
      ]
    },
    {
      "cell_type": "code",
      "metadata": {
        "id": "hX_Cc5IfjQ6-"
      },
      "source": [
        "rank1_tensor = tf.Variable([\"Test\"], tf.string)\n",
        "rank2_tensor = tf.Variable([[\"test\", \"ok\"], [\"test\", \"yes\"]], tf.string)"
      ],
      "execution_count": null,
      "outputs": []
    },
    {
      "cell_type": "markdown",
      "metadata": {
        "id": "55zuGMc7nHjC"
      },
      "source": [
        "**Para determinar a classificação** de um tensor, podemos chamar o seguinte método."
      ]
    },
    {
      "cell_type": "code",
      "metadata": {
        "id": "Zrj0rAWLnMNv",
        "outputId": "b8b34a8c-fc6e-40c6-9fd6-294d1253631e",
        "colab": {
          "base_uri": "https://localhost:8080/",
          "height": 34
        }
      },
      "source": [
        "tf.rank(rank2_tensor)"
      ],
      "execution_count": null,
      "outputs": [
        {
          "output_type": "execute_result",
          "data": {
            "text/plain": [
              "<tf.Tensor: shape=(), dtype=int32, numpy=2>"
            ]
          },
          "metadata": {
            "tags": []
          },
          "execution_count": 19
        }
      ]
    },
    {
      "cell_type": "markdown",
      "metadata": {
        "id": "hTv4Gz67pQbx"
      },
      "source": [
        "A classificação de um tensor está diretamente relacionada ao nível mais profundo das listas aninhadas. Você pode ver no primeiro exemplo que ```[\"Test\"]``` é um tensor de classificação 1, pois o nível mais profundo de aninhamento é 1.\n",
        "Onde no segundo exemplo ```[[\"test\", \"ok\"], [\"test\", \"yes\"]]``` é um tensor de classificação 2, pois o nível mais profundo de aninhamento é 2."
      ]
    },
    {
      "cell_type": "markdown",
      "metadata": {
        "id": "RaVrANK8q21q"
      },
      "source": [
        "###Shape of Tensors\n",
        "Agora que falamos sobre a classificação dos tensores, é hora de falar sobre a forma. A forma de um tensor é simplesmente o número de elementos que existem em cada dimensão. O TensorFlow tentará determinar a forma de um tensor, mas às vezes ela pode ser desconhecida.\n",
        "\n",
        "Para **obter a forma** de um tensor, usamos o atributo shape."
      ]
    },
    {
      "cell_type": "code",
      "metadata": {
        "id": "L_NRXsFOraYa"
      },
      "source": [
        "rank2_tensor.shape"
      ],
      "execution_count": null,
      "outputs": []
    },
    {
      "cell_type": "markdown",
      "metadata": {
        "id": "wVDmLJeFs086"
      },
      "source": [
        "###Mudando o shape\n",
        "O número de elementos de um tensor é o produto dos tamanhos de todas as suas formas. Freqüentemente, existem muitas formas que possuem o mesmo número de elementos, tornando conveniente poder alterar a forma de um tensor.\n",
        "\n",
        "O exemplo abaixo mostra como alterar a forma de um tensor."
      ]
    },
    {
      "cell_type": "code",
      "metadata": {
        "id": "dZ8Rbs2xtNqj"
      },
      "source": [
        "tensor1 = tf.ones([1,2,3]) # tf.ones() cria um tensor de forma [1,2,3] cheio de unidades\n",
        "tensor2 = tf.reshape(tensor1, [2,3,1]) # remodelar os dados existentes para moldar [2,3,1]\n",
        "tensor3 = tf.reshape(tensor2, [3, -1]) # -1 diz ao tensor para calcular o tamanho da dimensão naquele local\n",
        "                                        # isso remodelará o tensor para [3,3]\n",
        "\n",
        "# O número de elementos no tensor remodelado DEVE corresponder ao número do tensor original"
      ],
      "execution_count": null,
      "outputs": []
    },
    {
      "cell_type": "markdown",
      "metadata": {
        "id": "M631k7UDv1Wh"
      },
      "source": [
        "Agora vamos dar uma olhada em nossos diferentes tensores."
      ]
    },
    {
      "cell_type": "code",
      "metadata": {
        "id": "IFNmUxaEv6s3"
      },
      "source": [
        "print(tensor1)\n",
        "print(tensor2)\n",
        "print(tensor3)\n",
        "# Observe as mudanças na forma"
      ],
      "execution_count": null,
      "outputs": []
    },
    {
      "cell_type": "markdown",
      "metadata": {
        "id": "q88pJucBolsp"
      },
      "source": [
        "###Tensors de fatiamento\n",
        "Você deve estar familiarizado com o termo \"fatia\" em python e seu uso em listas, tuplas, etc. Bem, o operador fatia pode ser usado em tensores para selecionar eixos ou elementos específicos.\n",
        "\n",
        "Quando fatiamos ou selecionamos elementos de um tensor, podemos usar valores separados por vírgula dentro do conjunto de colchetes. Cada valor subsequente refere-se a uma dimensão diferente do tensor.\n",
        "\n",
        "Ex: ```tensor[dim1, dim2, dim3]```\n",
        "\n",
        "Incluí alguns exemplos que esperamos ajudar a ilustrar como podemos manipular tensores com o operador slice."
      ]
    },
    {
      "cell_type": "code",
      "metadata": {
        "id": "b0YrD-hRqD-W"
      },
      "source": [
        "# Criando um tensor 2D\n",
        "matrix = [[1,2,3,4,5],\n",
        "          [6,7,8,9,10],\n",
        "          [11,12,13,14,15],\n",
        "          [16,17,18,19,20]]\n",
        "\n",
        "tensor = tf.Variable(matrix, dtype=tf.int32)\n",
        "print(tf.rank(tensor))\n",
        "print(tensor.shape)"
      ],
      "execution_count": null,
      "outputs": []
    },
    {
      "cell_type": "code",
      "metadata": {
        "id": "Wd85uGI7qyfC"
      },
      "source": [
        "# Agora vamos selecionar algumas linhas e colunas diferentes do nosso tensor\n",
        "\n",
        "three = tensor[0,2]  # seleciona o terceiro elemento da primeira linha\n",
        "print(three)  # -> 3\n",
        "\n",
        "row1 = tensor[0]  # seleciona a primeira linha\n",
        "print(row1)\n",
        "\n",
        "column1 = tensor[:, 0]  # selecione a primeira linha\n",
        "print(column1)\n",
        "\n",
        "row_2_and_4 = tensor[1::2]  # seleciona a segunda e quarta linha\n",
        "print(row2and4)\n",
        "\n",
        "column_1_in_row_2_and_3 = tensor[1:3, 0]\n",
        "print(column_1_in_row_2_and_3)\n"
      ],
      "execution_count": null,
      "outputs": []
    },
    {
      "cell_type": "markdown",
      "metadata": {
        "id": "UU4MMhB_rxvz"
      },
      "source": [
        "###Tipos de tensors\n",
        "Antes de prosseguirmos, mencionarei que existem diferentes tipos de tensores. Estes são os mais utilizados e falaremos mais a fundo sobre cada um à medida que forem utilizados.\n",
        "- Variável\n",
        "- Constante\n",
        "- Espaço reservado\n",
        "- Tensor esparso\n",
        "\n",
        "Com a execução de ```Variable``` todos esses tensores são imutáveis, ou seja, seu valor não pode mudar durante a execução.\n",
        "\n",
        "Por enquanto, basta entender que usamos o tensor Variável quando queremos alterar potencialmente o valor do nosso tensor."
      ]
    }
  ]
}